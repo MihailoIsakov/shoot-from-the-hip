{
 "cells": [
  {
   "cell_type": "code",
   "execution_count": 9,
   "metadata": {
    "collapsed": false
   },
   "outputs": [],
   "source": [
    "# -*-coding:utf-8-*-\n",
    "%matplotlib inline\n",
    "import os\n",
    "\n",
    "import numpy as np\n",
    "from matplotlib import pyplot as plt\n",
    "from sklearn.cross_validation import KFold\n",
    "from sklearn.naive_bayes import MultinomialNB\n",
    "\n",
    "from bald_latin import remove_cyrillic_and_accents\n",
    "from dataset import CommentDataset"
   ]
  },
  {
   "cell_type": "markdown",
   "metadata": {},
   "source": [
    "### Load the original and stemmed comments, and their labels.\n",
    "Remove the cyrillic comments and remove accents from ć,č,ž,š,đ."
   ]
  },
  {
   "cell_type": "code",
   "execution_count": 2,
   "metadata": {
    "collapsed": false
   },
   "outputs": [],
   "source": [
    "originals = open('dataset/lns/lns_comments.txt', 'r').readlines()\n",
    "corpus = open('dataset/lns/lns_comments_stemmed.txt', 'r').readlines()\n",
    "labels = open('dataset/lns/lns_labels.txt', 'r').readlines()\n",
    "\n",
    "# remove cyrillic and balden text\n",
    "corpus, labels = remove_cyrillic_and_accents(corpus, labels)\n",
    "originals, _ = remove_cyrillic_and_accents(originals, range(len(originals)), remove_accents=False)\n",
    "\n",
    "# labels as a numpy array\n",
    "labels = np.array([int(float(x)) for x in labels])"
   ]
  },
  {
   "cell_type": "markdown",
   "metadata": {},
   "source": [
    "# Train a Naive Bayes classifier using K-Fold crossvalidation\n",
    "### Test it on each test set, average the results"
   ]
  },
  {
   "cell_type": "code",
   "execution_count": 20,
   "metadata": {
    "collapsed": false
   },
   "outputs": [
    {
     "name": "stdout",
     "output_type": "stream",
     "text": [
      "Results on 3 folds:\n",
      "Accuracy: 0.720954987835,\n",
      "Precision: 0.715144801065,\n",
      "Recall: 0.818564646503\n"
     ]
    },
    {
     "data": {
      "image/png": "[encoded data removed]",
      "text/plain": [
       "<matplotlib.figure.Figure at 0x7f6cfa43b090>"
      ]
     },
     "metadata": {},
     "output_type": "display_data"
    }
   ],
   "source": [
    "n_folds=3\n",
    "values = np.zeros(3)  # accuracy, precision, recall\n",
    "probabilities = []\n",
    "\n",
    "k_fold = KFold(len(corpus), n_folds=n_folds, shuffle=True)\n",
    "for fold_count, (train, test) in enumerate(k_fold):\n",
    "#     print \"Fold #{}\".format(fold_count)\n",
    "    corpus_train = [corpus[x] for x in train]\n",
    "    corpus_test = [corpus[x] for x in test]\n",
    "    labels_train = [labels[x] for x in train]\n",
    "    labels_test = [labels[x] for x in test]\n",
    "    \n",
    "    # build the dataset, vectorize it using TF-IDF\n",
    "    data = CommentDataset(corpus_train, labels_train, corpus_test, labels_test)\n",
    "    data.vectorize()\n",
    "        \n",
    "    # create and fit the classifier\n",
    "    clf = MultinomialNB().fit(data.X_train, data.y_train)\n",
    "    \n",
    "    proba = clf.predict_proba(data.X_test)[:,1]\n",
    "    probabilities.append(proba)\n",
    "    \n",
    "    values += data.test_prediction(proba, print_options=[])[:3]  # for averaging metrics on k-folds\n",
    "    \n",
    "print \"Results on {} folds:\".format(fold_count + 1)\n",
    "print (\"Accuracy: {},\\nPrecision: {},\\nRecall: {}\".format(values[0]/n_folds, values[1]/n_folds, values[2]/n_folds))\n",
    "\n",
    "\n",
    "# plots\n",
    "plt.figure(figsize=(13, 4))\n",
    "for fold, proba in enumerate(probabilities):\n",
    "    n, bins, patches = plt.hist(proba, 100, alpha=0.5, label=\"Fold #{}\".format(fold))\n",
    "plt.legend(loc='upper right')\n",
    "plt.show()\n",
    "    "
   ]
  },
  {
   "cell_type": "code",
   "execution_count": 4,
   "metadata": {
    "collapsed": false
   },
   "outputs": [
    {
     "name": "stdout",
     "output_type": "stream",
     "text": [
      "\n",
      "Fold #0, classifying 658 comments\n",
      "[[0 1]\n",
      " [0 5]]\n",
      "\n",
      "Fold #1, classifying 658 comments\n",
      "[[0 1]\n",
      " [0 7]]\n",
      "\n",
      "Fold #2, classifying 658 comments\n",
      "[[10]]\n",
      "\n",
      "Fold #3, classifying 658 comments\n",
      "[[6]]\n",
      "\n",
      "Fold #4, classifying 658 comments\n",
      "[[10]]\n",
      "\n",
      "Fold #5, classifying 658 comments\n",
      "[[10]]\n",
      "\n",
      "Fold #6, classifying 657 comments\n",
      "[[3]]\n",
      "\n",
      "Fold #7, classifying 657 comments\n",
      "[[4]]\n",
      "\n",
      "Fold #8, classifying 657 comments\n",
      "[[5]]\n",
      "\n",
      "Fold #9, classifying 657 comments\n",
      "[[13]]\n"
     ]
    }
   ],
   "source": [
    "cutoff = 0.8\n",
    "lower = 0.0\n",
    "upper = 0.9\n",
    "\n",
    "k_fold = KFold(X.shape[0], n_folds=10, shuffle=True)\n",
    "for fold_count, (train, test) in enumerate(k_fold):\n",
    "    X_train = X[train]\n",
    "    y_train = labels[train]\n",
    "    X_test = X[test] \n",
    "    y_test = labels[test]\n",
    "    # original comments for the test set\n",
    "    comments_test = [originals[x] for x in test]\n",
    "    \n",
    "    # create and fit the classifier\n",
    "    clf = MultinomialNB().fit(X_train, y_train)\n",
    "    \n",
    "    # predict probabilities on the training set\n",
    "    proba = clf.predict_proba(X_train)[:, 1]\n",
    "    training_error = np.mean(np.round(proba) == np.round(y_train)) * 100\n",
    "    # predict probabilities on the test set\n",
    "    proba = clf.predict_proba(X_test)[:, 1]\n",
    "    \n",
    "    # get the classification error\n",
    "#     indices = np.argwhere(np.logical_or(proba >= cutoff, proba <= 1 - cutoff))\n",
    "    indices = np.argwhere(np.logical_or(proba >= upper, proba <= lower))\n",
    "    y_pred = np.round(proba)\n",
    "    count = np.sum(indices)\n",
    "    print \"\\nFold #{}, classifying {} comments\".format(fold_count, len(y_test))\n",
    "    \n",
    "#     print confusion_matrix(y_test, y_pred)\n",
    "    print confusion_matrix(y_test[indices], y_pred[indices])\n",
    "    \n",
    "    \n",
    "#     print \"Classification accuracy: {:.2f}%, comments classified: {} ({:.2f}% overall)\\n\".format(accuracy, count, 100.0*count/len(y_test))\n",
    "    \n",
    "    # print out misclassified comments\n",
    "#     for prob, label, text in zip(proba, y_test, originals):\n",
    "#         # only take into account comments with high classification certainty.\n",
    "#         # probability must fall in range [0, 1-cutoff] or [cutoff, 1] for the classification to be taken into account.\n",
    "#         if prob >= cutoff or prob <= 1 - cutoff:\n",
    "#             # if the comment is misclassified, print it\n",
    "#             if np.round(prob) != label:\n",
    "#                 cls = \"bot\" if prob > 0.5 else \"not\"\n",
    "#                 real = \"bot\" if label > 0.5 else \"not\"\n",
    "                \n",
    "#                 print \"Classified as '%s', label is '%s', comment: \\n%s\" % (cls, real, text)\n",
    "\n",
    "    \n"
   ]
  },
  {
   "cell_type": "code",
   "execution_count": 5,
   "metadata": {
    "collapsed": false
   },
   "outputs": [
    {
     "name": "stdout",
     "output_type": "stream",
     "text": [
      "Cyrillic comments make up 2.22219306384 percent\n"
     ]
    }
   ],
   "source": [
    "max_scraped = 10**4\n",
    "original_scraped = open('dataset/comments.txt', 'r').readlines()\n",
    "scraped = open('dataset/stemmed.txt', 'r').readlines()\n",
    "scraped, original_scraped = bald_latin.remove_cyrillic_comments(scraped, original_scraped)\n",
    "scraped = bald_latin.remove_serbian_accents(scraped)"
   ]
  },
  {
   "cell_type": "code",
   "execution_count": 31,
   "metadata": {
    "collapsed": false
   },
   "outputs": [],
   "source": [
    "clf = MultinomialNB().fit(X, labels)\n",
    "\n",
    "import codecs\n",
    "output = codecs.open('bot_clf.txt', 'w', 'utf-8')\n",
    "\n",
    "threshold = 0.85\n",
    "\n",
    "assert len(scraped) == len(original_scraped)\n",
    "for comment, org in zip(scraped, original_scraped):\n",
    "    X_next = vectorizer.transform([comment])\n",
    "    y_next = clf.predict_proba(X_next)[0][1]\n",
    "    \n",
    "    if y_next > threshold:\n",
    "        org = org.decode('utf-8')\n",
    "        org = org.replace(u'\\n', u' ')\n",
    "        output.write(org + u'\\n')\n",
    "        \n",
    "output.close()"
   ]
  },
  {
   "cell_type": "code",
   "execution_count": 29,
   "metadata": {
    "collapsed": true
   },
   "outputs": [],
   "source": [
    "output.close()"
   ]
  }
 ],
 "metadata": {
  "kernelspec": {
   "display_name": "Python 2",
   "language": "python",
   "name": "python2"
  },
  "language_info": {
   "codemirror_mode": {
    "name": "ipython",
    "version": 2
   },
   "file_extension": ".py",
   "mimetype": "text/x-python",
   "name": "python",
   "nbconvert_exporter": "python",
   "pygments_lexer": "ipython2",
   "version": "2.7.6"
  }
 },
 "nbformat": 4,
 "nbformat_minor": 0
}
